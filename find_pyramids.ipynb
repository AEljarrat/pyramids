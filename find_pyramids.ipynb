{
 "cells": [
  {
   "cell_type": "markdown",
   "metadata": {},
   "source": [
    "# Find Pyramids\n",
    "There are some example images in the `./images` folder, these can be selected using the following string.  "
   ]
  },
  {
   "cell_type": "code",
   "execution_count": 1,
   "metadata": {},
   "outputs": [],
   "source": [
    "image_name = '39-31 top 5kx.tif' # done\n",
    "#image_name = '39-58 top 5kx.tif' # done\n",
    "#image_name = '39-65 top 5kx.tif' # done\n",
    "#image_name = '39-70 top 5kx.tif'"
   ]
  },
  {
   "cell_type": "markdown",
   "metadata": {},
   "source": [
    "## Measure pixel size\n",
    "Here we load the image data we want to analyze and do our first measurements. I have measured the size of the scalebar in pixels to calibrate the image axes. "
   ]
  },
  {
   "cell_type": "code",
   "execution_count": 2,
   "metadata": {},
   "outputs": [
    {
     "data": {
      "text/plain": [
       "<matplotlib.colorbar.Colorbar at 0x1323e2cd0>"
      ]
     },
     "execution_count": 2,
     "metadata": {},
     "output_type": "execute_result"
    }
   ],
   "source": [
    "%matplotlib qt \n",
    "import matplotlib.pyplot as plt\n",
    "import numpy as np\n",
    "\n",
    "from skimage.io import imread\n",
    "\n",
    "imdata = imread('./images/'+image_name) / 2**8 # uint8 to float in range 0-1\n",
    "f, ax = plt.subplots()\n",
    "im = ax.imshow(imdata, cmap=plt.cm.gray)\n",
    "plt.colorbar(im, None, ax)"
   ]
  },
  {
   "cell_type": "code",
   "execution_count": 3,
   "metadata": {},
   "outputs": [
    {
     "name": "stdout",
     "output_type": "stream",
     "text": [
      "Pixel Size = 0.02392 µm / pixel\n"
     ]
    }
   ],
   "source": [
    "S  = 5.     # scalebar size in µm\n",
    "x1 = 989    # right pixel of the scale bar\n",
    "x0 = 780    # left ...\n",
    "ps = S / (x1 - x0)\n",
    "\n",
    "print('Pixel Size = {0:.5f} µm / pixel'.format(ps))"
   ]
  },
  {
   "cell_type": "markdown",
   "metadata": {},
   "source": [
    "## Automatic foregound peak finding\n",
    "This scripts aims to find the local maxima in the image we just loaded. It uses some filtering steps to achieve this. It only achieves partial success in finding the maxima. In the next step we will correct the result by hand. \n",
    "\n",
    "This script:\n",
    "- Finds the foreground automatically.\n",
    "- Uses brute force to find ALL local maxima in the foreground.\n",
    "- Reduces this result to single isolated indices.\n",
    "- Does the initial watershed segmentation to obtain the color pyramids. "
   ]
  },
  {
   "cell_type": "code",
   "execution_count": 4,
   "metadata": {},
   "outputs": [],
   "source": [
    "%matplotlib qt\n",
    "import matplotlib.pyplot as plt\n",
    "import numpy as np\n",
    "import scipy.ndimage as ndi\n",
    "from skimage.io import imread\n",
    "from skimage.morphology import disk\n",
    "from skimage.feature import peak_local_max\n",
    "from skimage.segmentation import watershed\n",
    "from skimage.filters import threshold_otsu\n",
    "\n",
    "def foreground_detection(imdata, threshold_factor = 1., *args, **kwargs):\n",
    "    \n",
    "    # calculate threshold\n",
    "    threshold = threshold_otsu(imdata) * threshold_factor\n",
    "    \n",
    "    # Remove small objects\n",
    "    mask = imdata > threshold\n",
    "    mask = ndi.binary_erosion(mask, *args, **kwargs)\n",
    "    mask[0,:] = 0\n",
    "    mask[:,1] = 0\n",
    "    mask = ndi.binary_dilation(mask, *args, **kwargs)\n",
    "    \n",
    "    return mask, threshold\n",
    "\n",
    "# Load image: use scikit-image for IO and remove speckle noise\n",
    "imdata = imread('./images/'+image_name)[:750, :] / 2**8 \n",
    "imdata = ndi.median_filter(imdata, size=2)\n",
    "\n",
    "# Foreground detection: apply threshold, remove small objects and label\n",
    "structure  = disk(2)\n",
    "iterations = 5\n",
    "foreground_mask, threshold = foreground_detection(\n",
    "    imdata = imdata, \n",
    "    threshold_factor = 1., \n",
    "    structure=structure, \n",
    "    iterations=iterations, )\n",
    "foreground_labels, foreground_Nlabels = ndi.label(foreground_mask)\n",
    "\n",
    "# find local max: build mask from local maxima in the foreground\n",
    "iterations = 4\n",
    "maxima_mask = peak_local_max(\n",
    "    image = imdata,\n",
    "    labels = foreground_labels,\n",
    "    num_peaks_per_label=25,\n",
    "    min_distance=1, \n",
    "    indices=False, )\n",
    "\n",
    "# concentrate and characterize the local max\n",
    "maxima_mask = ndi.binary_dilation(maxima_mask, iterations=iterations)\n",
    "maxima_markers = np.argwhere(maxima_mask)\n",
    "maxima_labels, maxima_Nlabels = ndi.label(maxima_mask)\n",
    "\n",
    "# Run again find local max for cleanup\n",
    "maxima_mask = peak_local_max(\n",
    "    image = imdata,\n",
    "    labels = maxima_labels,\n",
    "    num_peaks_per_label=1,\n",
    "    min_distance=1, \n",
    "    indices=False, )\n",
    "\n",
    "# concentrate and characterize the local max\n",
    "maxima_markers = np.argwhere(maxima_mask)\n",
    "maxima_labels, maxima_Nlabels = ndi.label(maxima_mask)\n",
    "\n",
    "# watershed to fill the basins \n",
    "watershed_labels = watershed(-imdata, maxima_labels, watershed_line=False)\n",
    "# if watershed_line=True: watershed_line = np.nonzero(watershed_labels==0)"
   ]
  },
  {
   "cell_type": "markdown",
   "metadata": {},
   "source": [
    "## Interactive plot\n",
    "In this step and interactive plot allows to quickly correct the result. If the previous step was done correctly, most of the larger pyramid apices have been automatically found. Some of the more intense could show 2 or more maxima which may be wrong. Also small pyramids are very hard to automatically find. The interactive plot has some built in functionality to manually edit the result:\n",
    "\n",
    "- Using the Left / Right click buttons we can Add / Remove points\n",
    "- The watershed segmentation is repeated every time a point is Added / Removed (colors are updated accordingly).\n",
    "\n",
    "When we are done the result can be saved. A load command is also provided to retrieve saved results.\n",
    "\n",
    "Note: If the plot is closed, start again from this point."
   ]
  },
  {
   "cell_type": "code",
   "execution_count": 9,
   "metadata": {},
   "outputs": [],
   "source": [
    "figsize = plt.figaspect(1/2.)\n",
    "f, axs = plt.subplots(1, 2, dpi=150, figsize=figsize, sharex=True, sharey=True)\n",
    "\n",
    "Ny, Nx = imdata.shape\n",
    "x, y = np.arange(Nx), np.arange(Ny)\n",
    "\n",
    "ax = axs[0]\n",
    "ax.imshow(imdata, cmap='afmhot')\n",
    "contours = ax.contour(x, y, foreground_mask, [0.5], linewidths=0.5, colors='g')\n",
    "#ax.contour(x, y, maxima_mask, [0.5], linewidths=0.5, colors='r')\n",
    "pc_markers = ax.scatter(maxima_markers[:, 1], maxima_markers[:, 0], s=1, c='r', marker='o')\n",
    "ax.axis('off')\n",
    "\n",
    "ax = axs[1]\n",
    "ax.imshow(imdata, cmap=plt.cm.gray)\n",
    "img_watershed = ax.imshow(watershed_labels, cmap=plt.cm.flag, alpha=.2)\n",
    "ax.axis('off')\n",
    "\n",
    "# crossairs\n",
    "axvlines = []\n",
    "axhlines = []\n",
    "for ax in axs.flat:\n",
    "    #plt.colorbar(ax.images[0], None, ax)\n",
    "    axvlines += [ax.axvline(x=0., c='g', ls=':', lw=0.5),]\n",
    "    axhlines += [ax.axhline(y=0., c='g', ls=':', lw=0.5),]\n",
    "\n",
    "def onMouseMove(event):\n",
    "    if not event.inaxes:\n",
    "        return\n",
    "    x = event.xdata if event.xdata is not None else 0.\n",
    "    y = event.ydata if event.ydata is not None else 0.\n",
    "    for axvl, axhl in zip(axvlines, axhlines):\n",
    "        axvl.set_xdata(x)\n",
    "        axhl.set_ydata(y)\n",
    "    f.canvas.draw()\n",
    "\n",
    "f.canvas.mpl_connect('motion_notify_event', onMouseMove)\n",
    "\n",
    "def addPoint(path_collection, new_point, c='b'):\n",
    "    offsets = path_collection.get_offsets()\n",
    "    facecls = path_collection.get_facecolors()\n",
    "    if facecls.shape[0] == 1:\n",
    "        facecls = np.repeat(facecls, offsets.shape[0], axis=0)\n",
    "    offsets = np.concatenate([offsets, np.array(new_point, ndmin=2)])\n",
    "    facecls = np.concatenate([facecls, np.array(plt.matplotlib.colors.to_rgba(c), ndmin=2)])\n",
    "    path_collection.set_offsets(offsets)\n",
    "    path_collection.set_facecolors(facecls)\n",
    "    path_collection.axes.figure.canvas.draw_idle()\n",
    "    \n",
    "def rmPoint(path_collection, coordinates):\n",
    "    offsets = path_collection.get_offsets()\n",
    "    facecls = path_collection.get_facecolors()\n",
    "    if facecls.shape[0] == 1:\n",
    "        facecls = np.repeat(facecls, offsets.shape[0], axis=0)\n",
    "    idx_closest=np.argmin(np.sum((offsets-np.array(coordinates, ndmin=2))**2., axis=1))\n",
    "    offsets = np.delete(offsets, idx_closest, axis=0)\n",
    "    facecls = np.delete(facecls, idx_closest, axis=0)\n",
    "    path_collection.set_offsets(offsets)\n",
    "    path_collection.set_facecolors(facecls)\n",
    "    path_collection.axes.figure.canvas.draw_idle()\n",
    "    \n",
    "def onClick(event):\n",
    "    if not event.inaxes:\n",
    "        return\n",
    "    if event.button == 1:\n",
    "        addPoint(pc_markers, (event.xdata, event.ydata))\n",
    "    elif event.button ==3:\n",
    "        rmPoint(pc_markers, (event.xdata, event.ydata))\n",
    "    repeat_watershed()\n",
    "\n",
    "def repeat_watershed():\n",
    "    # repeat watershed\n",
    "    offsets = pc_markers.get_offsets()\n",
    "    new_markers = np.round(offsets[:, ::-1], decimals=0)\n",
    "    new_markers = new_markers.astype('int')\n",
    "    new_mask = np.zeros_like(maxima_mask, dtype=bool)\n",
    "    new_markers = np.ravel_multi_index(new_markers.T, new_mask.shape)\n",
    "    np.ravel(new_mask)[new_markers] = True\n",
    "    new_labels, new_Nlabels = ndi.label(new_mask)\n",
    "    watershed_labels = watershed(-imdata, new_labels)\n",
    "    img_watershed.set_data(watershed_labels)\n",
    "    img_watershed.set_clim(0, new_Nlabels)\n",
    "\n",
    "def load_path_collection(file_name, path_collection, c='y'):\n",
    "    offsets = np.load(file_name)\n",
    "    facecls = np.repeat(\n",
    "        np.array(plt.matplotlib.colors.to_rgba(c))[None, :], \n",
    "        offsets.shape[0], \n",
    "        axis=0, )\n",
    "    path_collection.set_offsets(offsets)\n",
    "    path_collection.set_facecolors(facecls)\n",
    "    path_collection.axes.figure.canvas.draw_idle()  \n",
    "    repeat_watershed()\n",
    "\n",
    "def save_path_coordinates(file_name, path_collection):\n",
    "    coordinates = path_collection.get_offsets()\n",
    "    coordinates = np.asarray(coordinates, np.float32)\n",
    "    np.save(file_name,coordinates) \n",
    "\n",
    "cid = f.canvas.mpl_connect('button_press_event', onClick)\n",
    "\n",
    "# some cheap scalebar\n",
    "scalebar_size = 5 # µm\n",
    "scalebar_size_pix = scalebar_size / ps\n",
    "ax = axs[0]\n",
    "from mpl_toolkits.axes_grid1.anchored_artists import AnchoredSizeBar\n",
    "scalebar = AnchoredSizeBar(\n",
    "    transform = ax.transData,\n",
    "    size = scalebar_size_pix, \n",
    "    label = '{0:d} µm'.format(int(round(scalebar_size))),\n",
    "    loc = 'lower left', \n",
    "    pad = 1,\n",
    "    color = 'white',\n",
    "    frameon = False,\n",
    "    label_top = True,\n",
    "    size_vertical = 8, )\n",
    "\n",
    "ax.add_artist(scalebar)\n",
    "\n",
    "f.tight_layout()"
   ]
  },
  {
   "cell_type": "markdown",
   "metadata": {},
   "source": [
    "### Save the result\n",
    "**Use with caution, can overwrite important data**"
   ]
  },
  {
   "cell_type": "code",
   "execution_count": 14,
   "metadata": {},
   "outputs": [],
   "source": [
    "save_name = image_name.replace('.tif',' - pyramid coords.npy')\n",
    "#save_path_coordinates(sname, pc_markers)"
   ]
  },
  {
   "cell_type": "markdown",
   "metadata": {},
   "source": [
    "### Load result"
   ]
  },
  {
   "cell_type": "code",
   "execution_count": 10,
   "metadata": {},
   "outputs": [],
   "source": [
    "save_name = image_name.replace('.tif',' - pyramid coords.npy')\n",
    "load_path_collection(save_name, pc_markers)"
   ]
  },
  {
   "cell_type": "markdown",
   "metadata": {},
   "source": [
    "## Measure pyramid vertices"
   ]
  },
  {
   "cell_type": "code",
   "execution_count": 26,
   "metadata": {},
   "outputs": [
    {
     "data": {
      "text/plain": [
       "(-0.5, 999.5, 749.5, -0.5)"
      ]
     },
     "execution_count": 26,
     "metadata": {},
     "output_type": "execute_result"
    }
   ],
   "source": [
    "watershed_labels = img_watershed.get_array()\n",
    "\n",
    "# Run again find local max for cleanup\n",
    "watershed_center_indices = peak_local_max(\n",
    "    image = imdata,\n",
    "    labels = watershed_labels,\n",
    "    num_peaks_per_label=1,\n",
    "    min_distance=1, \n",
    "    indices=True, )\n",
    "\n",
    "ax = axs[1]\n",
    "wm_markers = ax.scatter(watershed_center_indices[:, 1], watershed_center_indices[:, 0], s=1, c='w', marker='x')\n",
    "ax.axis('off')"
   ]
  },
  {
   "cell_type": "code",
   "execution_count": 27,
   "metadata": {},
   "outputs": [],
   "source": [
    "from skimage.measure import regionprops\n",
    "from skimage.segmentation import find_boundaries\n",
    "#from skimage.segmentation import clear_border, mark_boundaries\n",
    "\n",
    "# pixels at the border\n",
    "boundaries = find_boundaries(watershed_labels)\n",
    "\n",
    "# maxima in the watershed as array\n",
    "watershed_max = peak_local_max(\n",
    "    image = imdata,\n",
    "    labels = watershed_labels,\n",
    "    num_peaks_per_label=1,\n",
    "    min_distance=1, \n",
    "    indices=False, )\n",
    "\n",
    "# pyramid angles\n",
    "#pyangle = np.pi / 4 \n",
    "pyangle = np.deg2rad(45.)\n",
    "pyangle_n = np.arange(4) * np.pi / 2 + pyangle\n",
    "pyangle_n = pyangle_n - np.pi \n",
    "\n",
    "labels = np.unique(watershed_labels)\n",
    "Nlabels = len(labels)\n",
    "xpos = np.zeros([Nlabels, 4, 2])\n",
    "xdis = np.zeros([Nlabels, 4, 2])\n",
    "lines  = []\n",
    "for io, label in enumerate(labels):\n",
    "    # find the border pixels\n",
    "    label_mask = watershed_labels == label\n",
    "    label_bounds = boundaries.copy()\n",
    "    label_bounds[~label_mask] = 0\n",
    "    bounds = np.argwhere(label_bounds)\n",
    "\n",
    "    # find the center pixel\n",
    "    label_max = watershed_max.copy()\n",
    "    label_max[~label_mask] = 0\n",
    "    center = np.argwhere(label_max)\n",
    "\n",
    "    # get the angles\n",
    "    distances = bounds - center\n",
    "    angles = np.arctan2(distances[:, 1], distances[:, 0])\n",
    "    coords = []\n",
    "    dists = []\n",
    "    for ai in pyangle_n:\n",
    "        idx = np.argmin(np.abs(angles - ai))\n",
    "        coord = bounds[idx]\n",
    "        coords.append(coord)\n",
    "        dist = distances[idx]\n",
    "        dists.append(dist)\n",
    "        \n",
    "        line = plt.Line2D(\n",
    "            xdata = [coord[1], center[0, 1]], \n",
    "            ydata = [coord[0], center[0, 0]],\n",
    "            linestyle= '--',\n",
    "            linewidth= 0.5, )\n",
    "        lines.append(line)\n",
    "        \n",
    "    coords = np.array(coords)\n",
    "    xpos[io, ...] = coords\n",
    "    \n",
    "    dists = np.array(dists)\n",
    "    xdis[io, ...] = dists\n",
    "\n",
    "ax = axs[1]\n",
    "for line in lines:\n",
    "    ax.add_artist(line)\n",
    "    \n",
    "#f, ax = plt.subplots(dpi=150.)\n",
    "#xray_plt = xpos.reshape(Nlabels*4, 2)\n",
    "#ax.imshow(imdata)\n",
    "#ax.imshow(boundaries, alpha=0.5)\n",
    "#ax.scatter(watershed_center_indices[:, 1], watershed_center_indices[:, 0], s=5, c='k', marker='x')\n",
    "#ax.scatter(xray_plt[:, 1], xray_plt[:, 0], s=5, c='r', marker='+')\n",
    "#for line in lines:\n",
    "#    ax.add_line(line)"
   ]
  },
  {
   "cell_type": "code",
   "execution_count": 28,
   "metadata": {},
   "outputs": [],
   "source": [
    "sname = image_name.replace('.tif',' - vertex coords.npy')\n",
    "np.save(sname, xdis)"
   ]
  },
  {
   "cell_type": "code",
   "execution_count": 29,
   "metadata": {},
   "outputs": [],
   "source": [
    "sname = 'imagenes/'+image_name.replace('.tif', ' - find pyramids.png')\n",
    "f.savefig(sname, facecolor='none', dpi=150.)"
   ]
  },
  {
   "cell_type": "markdown",
   "metadata": {},
   "source": [
    "## Histogram vertex properties"
   ]
  },
  {
   "cell_type": "code",
   "execution_count": 30,
   "metadata": {},
   "outputs": [],
   "source": [
    "#image_name = '39-31 top 5kx.tif' # done\n",
    "#image_name = '39-58 top 5kx.tif' # done\n",
    "#image_name = '39-65 top 5kx.tif' # done\n",
    "image_name = '39-70 top 5kx.tif'"
   ]
  },
  {
   "cell_type": "code",
   "execution_count": 31,
   "metadata": {},
   "outputs": [],
   "source": [
    "ps = 0.02392 # pixel-size µm / pixel"
   ]
  },
  {
   "cell_type": "code",
   "execution_count": 37,
   "metadata": {},
   "outputs": [],
   "source": [
    "%matplotlib qt\n",
    "import matplotlib.pyplot as plt\n",
    "import numpy as np\n",
    "\n",
    "sname = image_name.replace('.tif',' - vertex coords.npy')\n",
    "vertices = np.load(sname)\n",
    "moduli = np.sqrt(np.sum(vertices**2, -1)) * ps\n",
    "angles = np.arctan2(vertices[..., 1], vertices[..., 0])\n",
    "max_indices = np.argmax(moduli, -1)\n",
    "moduli_max = np.array([moduli[io, idx] for io, idx in enumerate(max_indices)])\n",
    "angles_max = np.array([angles[io, idx] for io, idx in enumerate(max_indices)])\n",
    "angles_max_deg = np.rad2deg(angles_max+np.pi)\n",
    "angles_deg = np.rad2deg(angles+np.pi)\n",
    "\n",
    "v_plt = vertices.reshape(-1, 2)\n",
    "\n",
    "figsize = plt.figaspect(1)\n",
    "f, ax = plt.subplots(dpi=150., figsize=figsize)\n",
    "ax.scatter(v_plt[:, 1]*ps, v_plt[:, 0]*ps, s=5, c='b', marker='+')\n",
    "ax.set_ylim(-3., +3.)\n",
    "ax.set_xlim(-3., +3.)\n",
    "ax.grid('on')\n",
    "ax.set_aspect('equal')\n",
    "ax.set_title('Vertex coordinates [µm]')\n",
    "sname = 'imagenes/'+image_name.replace('.tif',' - vertex coords.png')\n",
    "f.savefig(sname)\n",
    "\n",
    "figsize = plt.figaspect(1/2.5)\n",
    "f, axs = plt.subplots(1, 2, dpi=150., figsize=figsize)\n",
    "\n",
    "ax = axs[0]\n",
    "ax.hist(moduli.reshape(-1), bins=50, range=(0., 4.5), label='All vertices')\n",
    "ax.hist(moduli_max, bins=25, range=(0., 4.5), color='r', label='Max vertices')\n",
    "ax.set_xlabel('Vertex size [µm]')\n",
    "ax.set_ylabel('Counts [pyramid]')\n",
    "ax.legend()\n",
    "\n",
    "ax = axs[1]\n",
    "ax.hist(angles_deg.reshape(-1), bins=50, range=(0., 360.))\n",
    "ax.hist(angles_max_deg, bins=50, range=(0., 360.), color='r')\n",
    "ax.set_xlabel('Vertex orientation [deg]')\n",
    "\n",
    "sname = 'imagenes/'+image_name.replace('.tif',' - vertex stats.png')\n",
    "f.savefig(sname)"
   ]
  },
  {
   "cell_type": "markdown",
   "metadata": {},
   "source": [
    "## Histogram vertex properties - height"
   ]
  },
  {
   "cell_type": "code",
   "execution_count": 34,
   "metadata": {},
   "outputs": [],
   "source": [
    "#image_name = '39-31 top 5kx.tif' # done\n",
    "#image_name = '39-58 top 5kx.tif' # done\n",
    "#image_name = '39-65 top 5kx.tif' # done\n",
    "image_name = '39-70 top 5kx.tif'"
   ]
  },
  {
   "cell_type": "code",
   "execution_count": 35,
   "metadata": {},
   "outputs": [],
   "source": [
    "ps = 0.02392 # pixel-size µm / pixel\n",
    "angle = 54.7"
   ]
  },
  {
   "cell_type": "code",
   "execution_count": 36,
   "metadata": {},
   "outputs": [],
   "source": [
    "%matplotlib qt\n",
    "import matplotlib.pyplot as plt\n",
    "import numpy as np\n",
    "\n",
    "sname = image_name.replace('.tif',' - vertex coords.npy')\n",
    "vertices = np.load(sname)\n",
    "moduli = np.sqrt(np.sum(vertices**2, -1)) * ps\n",
    "height = np.tan(np.deg2rad(angle)) * moduli\n",
    "max_indices = np.argmax(moduli, -1)\n",
    "height_max = np.array([height[io, idx] for io, idx in enumerate(max_indices)])\n",
    "\n",
    "\n",
    "figsize = plt.figaspect(0.8)\n",
    "f, ax = plt.subplots(dpi=150., figsize=figsize)\n",
    "\n",
    "Rbins = (0., 6.)\n",
    "ax.hist(height.reshape(-1), bins=50, range=Rbins, label='All vertices')\n",
    "ax.hist(height_max, bins=25, range=Rbins, color='r', label='Max vertices')\n",
    "ax.set_xlabel('Pyramid height [µm]')\n",
    "ax.set_ylabel('Counts [pyramid]')\n",
    "ax.legend()\n",
    "\n",
    "sname = 'imagenes/'+image_name.replace('.tif',' - Pyramid height.png')\n",
    "f.savefig(sname)"
   ]
  },
  {
   "cell_type": "code",
   "execution_count": 28,
   "metadata": {},
   "outputs": [],
   "source": [
    "plt.close('all')"
   ]
  },
  {
   "cell_type": "markdown",
   "metadata": {},
   "source": [
    "## Export vertex sizes and orientations to excel tables"
   ]
  },
  {
   "cell_type": "code",
   "execution_count": 38,
   "metadata": {},
   "outputs": [],
   "source": [
    "import numpy as np\n",
    "\n",
    "ps = 0.02392 # pixel-size µm / pixel\n",
    "\n",
    "image_names = [\n",
    "    '39-31 top 5kx.tif', \n",
    "    '39-58 top 5kx.tif', \n",
    "    '39-65 top 5kx.tif', \n",
    "    '39-70 top 5kx.tif', ]\n",
    "\n",
    "angle = 54.7\n",
    "\n",
    "for name in image_names:\n",
    "    lname = name.replace('.tif',' - vertex coords.npy')\n",
    "    vertices = np.load(lname)\n",
    "    moduli = np.sqrt(np.sum(vertices**2, -1)) * ps\n",
    "    angles = np.arctan2(vertices[..., 1], vertices[..., 0])\n",
    "    max_indices = np.argmax(moduli, -1)\n",
    "    moduli_max = np.array([moduli[io, idx] for io, idx in enumerate(max_indices)])\n",
    "    angles_max = np.array([angles[io, idx] for io, idx in enumerate(max_indices)])\n",
    "    angles_max_deg = np.rad2deg(angles_max+np.pi)\n",
    "    height_max = np.tan(np.deg2rad(angle))*moduli_max\n",
    "    sname = name.replace('.tif', '- vertex module.csv')\n",
    "    np.savetxt(\n",
    "        fname = sname, \n",
    "        X = np.stack([moduli_max, angles_max_deg, height_max], axis=1),\n",
    "        fmt = '%.5f',\n",
    "        delimiter = ',',\n",
    "        header='# Modulus [um], Orientation [deg], Height [um]', \n",
    "        comments='# Original image name: {0:s} \\n# Pixel Size = {1:.5f} um / pixel \\n'.format(name, ps), )"
   ]
  },
  {
   "cell_type": "code",
   "execution_count": null,
   "metadata": {},
   "outputs": [],
   "source": []
  }
 ],
 "metadata": {
  "kernelspec": {
   "display_name": "Python [conda env:hyperspy_dev]",
   "language": "python",
   "name": "conda-env-hyperspy_dev-py"
  },
  "language_info": {
   "codemirror_mode": {
    "name": "ipython",
    "version": 3
   },
   "file_extension": ".py",
   "mimetype": "text/x-python",
   "name": "python",
   "nbconvert_exporter": "python",
   "pygments_lexer": "ipython3",
   "version": "3.8.3"
  },
  "widgets": {
   "application/vnd.jupyter.widget-state+json": {
    "state": {
     "9a0d0a9927d74db9be7222aa0a3148b4": {
      "model_module": "@jupyter-widgets/base",
      "model_module_version": "1.2.0",
      "model_name": "LayoutModel",
      "state": {
       "display": "flex",
       "flex_flow": "row",
       "justify_content": "space-between"
      }
     }
    },
    "version_major": 2,
    "version_minor": 0
   }
  }
 },
 "nbformat": 4,
 "nbformat_minor": 4
}
